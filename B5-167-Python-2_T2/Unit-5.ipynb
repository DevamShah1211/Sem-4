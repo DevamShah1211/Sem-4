{
 "cells": [
  {
   "cell_type": "markdown",
   "metadata": {},
   "source": [
    "# Linear Regression"
   ]
  },
  {
   "cell_type": "code",
   "execution_count": 46,
   "metadata": {},
   "outputs": [
    {
     "data": {
      "text/html": [
       "<div>\n",
       "<style scoped>\n",
       "    .dataframe tbody tr th:only-of-type {\n",
       "        vertical-align: middle;\n",
       "    }\n",
       "\n",
       "    .dataframe tbody tr th {\n",
       "        vertical-align: top;\n",
       "    }\n",
       "\n",
       "    .dataframe thead th {\n",
       "        text-align: right;\n",
       "    }\n",
       "</style>\n",
       "<table border=\"1\" class=\"dataframe\">\n",
       "  <thead>\n",
       "    <tr style=\"text-align: right;\">\n",
       "      <th></th>\n",
       "      <th>A</th>\n",
       "      <th>B</th>\n",
       "    </tr>\n",
       "  </thead>\n",
       "  <tbody>\n",
       "    <tr>\n",
       "      <th>0</th>\n",
       "      <td>1</td>\n",
       "      <td>10</td>\n",
       "    </tr>\n",
       "    <tr>\n",
       "      <th>1</th>\n",
       "      <td>2</td>\n",
       "      <td>20</td>\n",
       "    </tr>\n",
       "    <tr>\n",
       "      <th>2</th>\n",
       "      <td>3</td>\n",
       "      <td>30</td>\n",
       "    </tr>\n",
       "    <tr>\n",
       "      <th>3</th>\n",
       "      <td>4</td>\n",
       "      <td>40</td>\n",
       "    </tr>\n",
       "    <tr>\n",
       "      <th>4</th>\n",
       "      <td>5</td>\n",
       "      <td>50</td>\n",
       "    </tr>\n",
       "    <tr>\n",
       "      <th>5</th>\n",
       "      <td>6</td>\n",
       "      <td>60</td>\n",
       "    </tr>\n",
       "    <tr>\n",
       "      <th>6</th>\n",
       "      <td>7</td>\n",
       "      <td>70</td>\n",
       "    </tr>\n",
       "    <tr>\n",
       "      <th>7</th>\n",
       "      <td>8</td>\n",
       "      <td>80</td>\n",
       "    </tr>\n",
       "    <tr>\n",
       "      <th>8</th>\n",
       "      <td>9</td>\n",
       "      <td>90</td>\n",
       "    </tr>\n",
       "    <tr>\n",
       "      <th>9</th>\n",
       "      <td>10</td>\n",
       "      <td>100</td>\n",
       "    </tr>\n",
       "  </tbody>\n",
       "</table>\n",
       "</div>"
      ],
      "text/plain": [
       "    A    B\n",
       "0   1   10\n",
       "1   2   20\n",
       "2   3   30\n",
       "3   4   40\n",
       "4   5   50\n",
       "5   6   60\n",
       "6   7   70\n",
       "7   8   80\n",
       "8   9   90\n",
       "9  10  100"
      ]
     },
     "execution_count": 46,
     "metadata": {},
     "output_type": "execute_result"
    }
   ],
   "source": [
    "import pandas as pd\n",
    "import numpy as np\n",
    "from sklearn.linear_model import LinearRegression\n",
    "from sklearn.model_selection import train_test_split\n",
    "from sklearn.metrics import r2_score,mean_squared_error\n",
    "\n",
    "data={\n",
    "    \"A\":[1,2,3,4,5,6,7,8,9,10],\n",
    "    \"B\":[10,20,30,40,50,60,70,80,90,100]\n",
    "}\n",
    "z=pd.DataFrame(data)\n",
    "z"
   ]
  },
  {
   "cell_type": "code",
   "execution_count": 33,
   "metadata": {},
   "outputs": [
    {
     "name": "stdout",
     "output_type": "stream",
     "text": [
      "1.0\n",
      "\n",
      "-7.105427357601002e-15\n",
      "\n",
      "[10.]\n",
      "\n",
      "6.310887241768095e-30\n"
     ]
    }
   ],
   "source": [
    "x=z[[\"A\"]]\n",
    "y=z[\"B\"]\n",
    "x_train,x_test,y_train,y_test=train_test_split(x,y,test_size=0.2,random_state=42)\n",
    "model=LinearRegression()\n",
    "model.fit(x_train,y_train)\n",
    "pre=model.predict(x_test)\n",
    "rsquare=r2_score(y_test,pre)\n",
    "intercept=model.intercept_\n",
    "co=model.coef_\n",
    "mse=mean_squared_error(y_test,pre)\n",
    "print(rsquare)\n",
    "print()\n",
    "print(intercept)\n",
    "print()\n",
    "print(co)\n",
    "print()\n",
    "print(mse)"
   ]
  },
  {
   "cell_type": "code",
   "execution_count": 49,
   "metadata": {},
   "outputs": [
    {
     "name": "stdout",
     "output_type": "stream",
     "text": [
      "[10.66666667 14.66666667 30.66666667]\n",
      "\n",
      "0.7905982905982907\n",
      "\n",
      "[0.4]\n",
      "\n",
      "8.666666666666668\n",
      "\n",
      "38.11111111111111\n"
     ]
    }
   ],
   "source": [
    "x=np.array([5,15,25,35,45,55]).reshape(-1,1)\n",
    "y=np.array([5,20,14,32,22,38])\n",
    "x_train,x_test,y_train,y_test=train_test_split(x,y,test_size=0.4,random_state=42)\n",
    "model=LinearRegression()\n",
    "model.fit(x_train,y_train)\n",
    "pre=model.predict(x_test)\n",
    "rsquare=r2_score(y_test,pre)\n",
    "coe=model.coef_\n",
    "intercept=model.intercept_\n",
    "mse=mean_squared_error(y_test,pre)\n",
    "print(pre)\n",
    "print()\n",
    "print(rsquare)\n",
    "print()\n",
    "print(coe)\n",
    "print()\n",
    "print(intercept)\n",
    "print()\n",
    "print(mse)"
   ]
  },
  {
   "cell_type": "code",
   "execution_count": 45,
   "metadata": {},
   "outputs": [
    {
     "name": "stdout",
     "output_type": "stream",
     "text": [
      "[ 9.06666667  9.46666667  9.86666667 10.26666667 10.66666667]\n"
     ]
    }
   ],
   "source": [
    "x=[1,2,3,4,5]\n",
    "x1=np.array(x).reshape(-1,1)\n",
    "pre=model.predict(x1)\n",
    "print(pre)"
   ]
  },
  {
   "cell_type": "code",
   "execution_count": 48,
   "metadata": {},
   "outputs": [
    {
     "name": "stdout",
     "output_type": "stream",
     "text": [
      "[ 8.33333333 13.73333333 19.13333333 24.53333333 29.93333333 35.33333333]\n",
      "\n",
      "0.715875613747954\n",
      "\n",
      "[0.54]\n",
      "\n",
      "5.633333333333329\n",
      "\n",
      "33.75555555555556\n"
     ]
    }
   ],
   "source": [
    "x=np.array([5,15,25,35,45,55]).reshape(-1,1)\n",
    "y=np.array([5,20,14,32,22,38])\n",
    "# x_train,x_test,y_train,y_test=train_test_split(x,y,test_size=0.4,random_state=42)\n",
    "model=LinearRegression()\n",
    "model.fit(x,y)\n",
    "pre=model.predict(x)\n",
    "rsquare=r2_score(y,pre)\n",
    "coe=model.coef_\n",
    "intercept=model.intercept_\n",
    "mse=mean_squared_error(y,pre)\n",
    "print(pre)\n",
    "print()\n",
    "print(rsquare)\n",
    "print()\n",
    "print(coe)\n",
    "print()\n",
    "print(intercept)\n",
    "print()\n",
    "print(mse)"
   ]
  },
  {
   "cell_type": "code",
   "execution_count": 50,
   "metadata": {},
   "outputs": [
    {
     "data": {
      "text/html": [
       "<div>\n",
       "<style scoped>\n",
       "    .dataframe tbody tr th:only-of-type {\n",
       "        vertical-align: middle;\n",
       "    }\n",
       "\n",
       "    .dataframe tbody tr th {\n",
       "        vertical-align: top;\n",
       "    }\n",
       "\n",
       "    .dataframe thead th {\n",
       "        text-align: right;\n",
       "    }\n",
       "</style>\n",
       "<table border=\"1\" class=\"dataframe\">\n",
       "  <thead>\n",
       "    <tr style=\"text-align: right;\">\n",
       "      <th></th>\n",
       "      <th>y</th>\n",
       "      <th>X1</th>\n",
       "    </tr>\n",
       "  </thead>\n",
       "  <tbody>\n",
       "    <tr>\n",
       "      <th>0</th>\n",
       "      <td>140</td>\n",
       "      <td>60</td>\n",
       "    </tr>\n",
       "    <tr>\n",
       "      <th>1</th>\n",
       "      <td>155</td>\n",
       "      <td>62</td>\n",
       "    </tr>\n",
       "    <tr>\n",
       "      <th>2</th>\n",
       "      <td>159</td>\n",
       "      <td>67</td>\n",
       "    </tr>\n",
       "    <tr>\n",
       "      <th>3</th>\n",
       "      <td>179</td>\n",
       "      <td>70</td>\n",
       "    </tr>\n",
       "    <tr>\n",
       "      <th>4</th>\n",
       "      <td>192</td>\n",
       "      <td>71</td>\n",
       "    </tr>\n",
       "    <tr>\n",
       "      <th>5</th>\n",
       "      <td>200</td>\n",
       "      <td>72</td>\n",
       "    </tr>\n",
       "    <tr>\n",
       "      <th>6</th>\n",
       "      <td>212</td>\n",
       "      <td>75</td>\n",
       "    </tr>\n",
       "    <tr>\n",
       "      <th>7</th>\n",
       "      <td>215</td>\n",
       "      <td>78</td>\n",
       "    </tr>\n",
       "  </tbody>\n",
       "</table>\n",
       "</div>"
      ],
      "text/plain": [
       "     y  X1\n",
       "0  140  60\n",
       "1  155  62\n",
       "2  159  67\n",
       "3  179  70\n",
       "4  192  71\n",
       "5  200  72\n",
       "6  212  75\n",
       "7  215  78"
      ]
     },
     "execution_count": 50,
     "metadata": {},
     "output_type": "execute_result"
    }
   ],
   "source": [
    "# 201.Write a program to make a model based on linear regression for the following dataframe\n",
    "#  created from a csv file named “data.csv” of x1 and y which follows equation y = a+bx1. Write a program which can predict value \n",
    "# of y based on any value of x, also write code to find value of a and b in above equation. Given Data in csv file:\n",
    "\n",
    "data={\n",
    "    \"y\":[140,155,159,179,192,200,212,215],\n",
    "    \"X1\":[60,62,67,70,71,72,75,78]\n",
    "}\n",
    "z=pd.DataFrame(data)\n",
    "z"
   ]
  },
  {
   "cell_type": "code",
   "execution_count": 55,
   "metadata": {},
   "outputs": [
    {
     "name": "stdout",
     "output_type": "stream",
     "text": [
      "[187.2615894  145.48013245]\n",
      "0.8347985198834562\n",
      "\n",
      "[4.64238411]\n",
      "\n",
      "-142.34768211920536\n",
      "\n",
      "56.54020656988712\n"
     ]
    }
   ],
   "source": [
    "x=z[[\"X1\"]]\n",
    "y=z[\"y\"]\n",
    "x_train,x_test,y_train,y_test=train_test_split(x,y,test_size=0.2,random_state=2)\n",
    "model=LinearRegression()\n",
    "model.fit(x_train,y_train)\n",
    "pre=model.predict(x_test)\n",
    "print(pre)\n",
    "rsquare=r2_score(y_test,pre)\n",
    "coe=model.coef_\n",
    "intercept=model.intercept_\n",
    "mse=mean_squared_error(y_test,pre)\n",
    "print(rsquare)\n",
    "print()\n",
    "print(coe)\n",
    "print()\n",
    "print(intercept)\n",
    "print()\n",
    "print(mse)"
   ]
  },
  {
   "cell_type": "code",
   "execution_count": 60,
   "metadata": {},
   "outputs": [],
   "source": [
    "# 196.Given a dataset with 'SAT' scores as independent variables and 'GPA' as the dependent variable, calculate R squared, coeficient \n",
    "# and intercept using linear regression and scikitlearn library. (Don't split data for training/testing) \n",
    "x=pd.read_csv(\"SATGPA.csv\")\n",
    "z=pd.DataFrame(x)\n",
    "z\n",
    "np.float=np.float64"
   ]
  },
  {
   "cell_type": "code",
   "execution_count": 61,
   "metadata": {},
   "outputs": [
    {
     "name": "stdout",
     "output_type": "stream",
     "text": [
      "[3.11288962 3.03010522 3.18905127 3.06487466 3.07812017 3.04003934\n",
      " 3.19567402 3.19567402 3.24203329 3.33806319 3.14765907 3.21388659\n",
      " 3.14765907 3.10957824 3.21057521 3.37448833 3.18077283 3.0466621\n",
      " 3.32481769 3.23209916 3.19070696 3.12613512 3.02844953 3.06818604\n",
      " 3.54336851 3.29832668 3.23375485 3.29004824 3.61953016 3.24534466\n",
      " 3.20395246 3.47714099 3.21388659 3.34634163 3.38773383 3.3364075\n",
      " 3.26852429 3.51025475 3.21719796 3.30660512 3.36289851 3.33806319\n",
      " 3.53012301 3.09302136 3.56985952 3.4622398  3.2950153  3.51356613\n",
      " 3.34965301 3.55164695 3.25859017 3.34634163 3.43243741 2.98043457\n",
      " 3.38607815 3.39932365 3.13938063 3.50859906 3.22382072 3.4059464\n",
      " 3.52681163 3.26852429 3.40925778 3.65429961 3.40925778 3.30826081\n",
      " 3.33806319 3.47714099 3.35627576 3.47217392 3.4754853  3.21885365\n",
      " 3.5450242  3.47714099 3.62118585 3.61125172 3.58144934 3.61953016\n",
      " 3.32647338 3.48045236 3.27183567 3.56489246 3.52350025 3.6692008 ]\n",
      "\n",
      "0.40600391479679765\n",
      "\n",
      "[0.00165569]\n",
      "\n",
      "0.2750402996602803\n",
      "\n",
      "0.04330086666167265\n"
     ]
    }
   ],
   "source": [
    "x=z[[\"SAT\"]]\n",
    "y=z[\"GPA\"]\n",
    "model=LinearRegression()\n",
    "model.fit(x,y)\n",
    "pre=model.predict(x)\n",
    "rsquare=r2_score(y,pre)\n",
    "coe=model.coef_\n",
    "intercept=model.intercept_\n",
    "mse=mean_squared_error(y,pre)\n",
    "print(pre)\n",
    "print()\n",
    "print(rsquare)\n",
    "print()\n",
    "print(coe)\n",
    "print()\n",
    "print(intercept)\n",
    "print()\n",
    "print(mse)"
   ]
  },
  {
   "cell_type": "code",
   "execution_count": 10,
   "metadata": {},
   "outputs": [
    {
     "name": "stdout",
     "output_type": "stream",
     "text": [
      "[  54.00131646 -113.10893925  490.18740764  317.4123975   198.45255445\n",
      "  711.11283045 -166.92410634  294.75337978  246.60296712 1195.44933429\n",
      "  600.65011905  736.60422539  558.16446082  138.97263293  651.63290893\n",
      "  753.59848868  807.41365578  297.58575699  226.77632661  589.32061019\n",
      " -124.43844811  597.81774183  535.50544309  529.84068866  750.76611147\n",
      "  793.2517697   212.61444053  334.40666079 -189.58312407 -124.43844811\n",
      "  793.2517697    28.50992152]\n",
      "\n",
      "0.8464891636131896\n",
      "\n",
      "21835.271889248193\n"
     ]
    }
   ],
   "source": [
    "#independent[length 3]\n",
    "#dependent[weight]\n",
    "#multi independent[length1,2,3,height,width] dependent[weight]\n",
    "#multi polynomial independent[length1,2,3,height,width] dependent[weight] degree=3 r2_score,mse\n",
    "import pandas as pd\n",
    "import numpy as np\n",
    "from sklearn.linear_model import LinearRegression\n",
    "from sklearn.model_selection import train_test_split\n",
    "from sklearn.metrics import r2_score,mean_squared_error\n",
    "from sklearn.preprocessing import PolynomialFeatures\n",
    "df=pd.read_csv(\"Fish.csv\")\n",
    "z=pd.DataFrame(df)\n",
    "# z\n",
    "x=z[[\"Length3\"]]\n",
    "y=z[\"Weight\"]\n",
    "x_train,x_test,y_train,y_test=train_test_split(x,y,test_size=0.2,random_state=42)\n",
    "model=LinearRegression()\n",
    "model.fit(x_train,y_train)\n",
    "pre=model.predict(x_test)\n",
    "r=r2_score(y_test,pre)\n",
    "mse=mean_squared_error(y_test,pre)\n",
    "print(pre)\n",
    "print()\n",
    "print(r)\n",
    "print()\n",
    "print(mse)"
   ]
  },
  {
   "cell_type": "markdown",
   "metadata": {},
   "source": [
    "# MultiLinear Regression"
   ]
  },
  {
   "cell_type": "code",
   "execution_count": 11,
   "metadata": {},
   "outputs": [
    {
     "name": "stdout",
     "output_type": "stream",
     "text": [
      "[  77.68563317 -159.12460639  385.1673549   300.26119445  179.41023158\n",
      "  775.66726232 -214.43415538  274.90963757  268.44510975 1116.01153223\n",
      "  610.12007978  786.34393233  585.01831604  172.12366335  652.8595541\n",
      "  785.41425179  926.40448191  351.83433222  256.32442006  587.20219745\n",
      " -175.74829352  619.14709502  516.45091187  515.98797368  788.64695281\n",
      "  909.00622172  219.68134027  305.35126984 -237.80116525 -178.93943304\n",
      "  688.57820552   23.23863135]\n",
      "\n",
      "0.8821430593048695\n",
      "\n",
      "16763.88719314074\n"
     ]
    }
   ],
   "source": [
    "x=z[[\"Length1\",\"Length2\",\"Length3\",\"Height\",\"Width\"]]\n",
    "y=z[\"Weight\"]\n",
    "x_train,x_test,y_train,y_test=train_test_split(x,y,test_size=0.2,random_state=42)\n",
    "model=LinearRegression()\n",
    "model.fit(x_train,y_train)\n",
    "pre=model.predict(x_test)\n",
    "r=r2_score(y_test,pre)\n",
    "mse=mean_squared_error(y_test,pre)\n",
    "print(pre)\n",
    "print()\n",
    "print(r)\n",
    "print()\n",
    "print(mse)"
   ]
  },
  {
   "cell_type": "markdown",
   "metadata": {},
   "source": [
    "# MultiPolynomial Regression"
   ]
  },
  {
   "cell_type": "code",
   "execution_count": 13,
   "metadata": {},
   "outputs": [
    {
     "name": "stdout",
     "output_type": "stream",
     "text": [
      "[ 469.87625885  743.36455536  107.14277267   50.59883881  140.31446457\n",
      "  674.68065643  129.07159042  -14.00035095  100.86227798  970.13294601\n",
      "  731.54394913  125.70151901  939.71673203  162.1232605   312.38790131\n",
      "  404.90417099  111.11000443  941.19386292   81.89911652  153.16161728\n",
      "  128.64374161   26.2773819   953.15298843  185.48497391 1091.84091187\n",
      "  124.95558548 1022.98616791  919.07317352   91.49914932  113.32910538\n",
      "  537.05089188  167.94361115]\n",
      "\n",
      "0.9747458113321141\n",
      "\n",
      "3581.2780712730687\n"
     ]
    }
   ],
   "source": [
    "x=z[[\"Length1\",\"Length2\",\"Length3\",\"Height\",\"Width\"]]\n",
    "y=z[\"Weight\"]\n",
    "x_train,x_test,y_train,y_test=train_test_split(x,y,test_size=0.2,random_state=25)\n",
    "poly=PolynomialFeatures(degree=3)\n",
    "poly_xtrain=poly.fit_transform(x_train)\n",
    "poly_xtest=poly.transform(x_test)\n",
    "model=LinearRegression()\n",
    "model.fit(poly_xtrain,y_train)\n",
    "pre=model.predict(poly_xtest)\n",
    "r=r2_score(y_test,pre)\n",
    "mse=mean_squared_error(y_test,pre)\n",
    "print(pre)\n",
    "print()\n",
    "print(r)\n",
    "print()\n",
    "print(mse)"
   ]
  },
  {
   "cell_type": "code",
   "execution_count": 20,
   "metadata": {},
   "outputs": [
    {
     "name": "stdout",
     "output_type": "stream",
     "text": [
      "[19651.50828552]\n"
     ]
    }
   ],
   "source": [
    "x=z[[\"Length1\",\"Length2\",\"Length3\",\"Height\",\"Width\"]]\n",
    "y=z[\"Weight\"]\n",
    "x_train,x_test,y_train,y_test=train_test_split(x,y,test_size=0.2,random_state=25)\n",
    "poly=PolynomialFeatures(degree=3)\n",
    "poly_xtrain=poly.fit_transform(x_train)\n",
    "poly_xtest=poly.transform([[20,20,30,12,5]])\n",
    "model=LinearRegression()\n",
    "model.fit(poly_xtrain,y_train)\n",
    "pre=model.predict(poly_xtest)\n",
    "\n",
    "print(pre)\n"
   ]
  },
  {
   "cell_type": "code",
   "execution_count": 19,
   "metadata": {},
   "outputs": [
    {
     "name": "stdout",
     "output_type": "stream",
     "text": [
      "[254.32136222]\n"
     ]
    }
   ],
   "source": [
    "x=z[[\"Length1\",\"Length2\",\"Length3\",\"Height\",\"Width\"]]\n",
    "y=z[\"Weight\"]\n",
    "x_train,x_test,y_train,y_test=train_test_split(x,y,test_size=0.2,random_state=3)\n",
    "model=LinearRegression()\n",
    "model.fit(x_train,y_train)\n",
    "pre=model.predict([[20,20,30,12,5]])\n",
    "\n",
    "print(pre)\n"
   ]
  },
  {
   "cell_type": "code",
   "execution_count": 33,
   "metadata": {},
   "outputs": [
    {
     "name": "stdout",
     "output_type": "stream",
     "text": [
      "[40.06913335 32.56470479 29.80668902 44.60809493 39.96541473 44.34984726\n",
      " 37.64834639 51.18801909 37.08044432 38.64449437 36.45757424 31.64776451\n",
      " 43.03392987 16.64984039 36.61381207 31.21699197 39.55333345 41.89770923\n",
      " 46.41953538 42.69067202 40.49560609 53.3447345  40.74436408 36.67049204\n",
      " 46.86499408 42.78349352 47.25115307 40.53653503 42.57499139 50.88772177\n",
      " 44.81813044 41.05114011 35.39386877 42.95199941 13.97578058 30.00463214\n",
      "  0.32863779 39.56884707 47.9626967  34.0147913  40.23322474 49.74492584\n",
      " 36.73990519 35.39784888 29.6071314  45.83432319 42.44745248 37.88237609\n",
      " 31.55675944 47.517238   35.03089266 45.17666152 45.98711652 47.32685806\n",
      " 54.18178829 15.18888047 43.78264851 44.75385635 37.69057227 39.34215811\n",
      " 44.21812376 44.27270068 47.84570949 38.42626454 41.0626191  19.64522484\n",
      " 47.9626967  43.85961508 37.99756745 43.80152052 42.39390912 42.57768877\n",
      " 44.73329588 32.31758114 46.89135756 38.92015239 40.90438603 43.95669962\n",
      " 34.28075691 25.5851042  16.26403643 45.66098257 42.05300968 10.81561309\n",
      " 31.65043887 49.10789869 47.40016786 13.5604683  46.02203009 44.82145569\n",
      " 34.76747867 35.40469328 31.48202917 45.59192922 42.0246353  42.54274755\n",
      " 14.70678074 43.68554348 27.69149444 43.0460661  27.63908623 35.23545719\n",
      " 45.89665228 50.31290226 42.86214486 44.61671482 49.59887911 32.11577476\n",
      " 31.86965512 38.39003281 44.58865137 25.50284004 46.20113858 37.45131001\n",
      " 14.70678074 44.2357441   9.25548578 37.23816575 38.97851394 47.40016786\n",
      " 39.50115693 32.15412829 46.99435489 47.07907957 53.12308545]\n",
      "\n",
      "0.5447865064578685\n",
      "\n",
      "77.14802598253836\n",
      "\n",
      "[ 6.84308941e+00 -2.25466590e-01 -5.18046265e-03  1.12369103e+00\n",
      "  1.87739728e+02 -4.29300312e+01]\n"
     ]
    }
   ],
   "source": [
    "#206.For the given RealEstate csv, write a python program satisfying following tasks to demonstrate application of machine learning \n",
    "# through multiple linear regression as follows – \n",
    "# Given: - \n",
    "# Dataset                              RealEstate.csv\n",
    "#  ML Library to be used    scikit-learn   \n",
    "# Dependent variable          'Y house price of unit area'\n",
    "#  Independent variables     'X1 transaction date', 'X2 house age',  'X3 distance to the nearest MRT station', 'X4 number of \n",
    "# convenience stores', 'X5 latitude' and  'X6 longitude'\n",
    "#  1. Import required libraries.\n",
    "#  2. Load RealEstate dataset, create a dataframe and check datatypes of its attributes using appropriate method.\n",
    "#  3. Remove ‘No’ column from the dataframe.\n",
    "#  4. Check for any null values in features using appropriate method.\n",
    "#  5. Create feature variables x and y as given above. \n",
    "# 6. Create training and testing sets of feature variables with 70% of data for training and with random state of 110.\n",
    "#  7. Create and fit regression model using appropriate method.\n",
    "#  8. Use testing set created in step 6 to find and print the prediction of the outcome.\n",
    "#  9. Find and print coefficient and mean squared error of the regression model.\n",
    "import pandas as pd\n",
    "import numpy as np\n",
    "from sklearn.linear_model import LinearRegression\n",
    "from sklearn.model_selection import train_test_split\n",
    "from sklearn.metrics import r2_score,mean_squared_error\n",
    "# from sklearn.preprocessing import PolynomialFeatures\n",
    "df=pd.read_csv(\"RealEstate.csv\")\n",
    "z=pd.DataFrame(df)\n",
    "z\n",
    "x=z[[\"X1 transaction date\",\"X2 house age\",\"X3 distance to the nearest MRT station\",\"X4 number of convenience stores\",\"X5 latitude\",\"X6 longitude\"]]\n",
    "y=z[\"Y house price of unit area\"]\n",
    "d=z.drop(\"No\",axis=1)\n",
    "d=d.isnull().sum()\n",
    "x_train,x_test,y_train,y_test=train_test_split(x,y,test_size=0.3,random_state=110)\n",
    "model=LinearRegression()\n",
    "model.fit(x_train,y_train)\n",
    "pre=model.predict(x_test)\n",
    "r=r2_score(y_test,pre)\n",
    "coe=model.coef_\n",
    "mse=mean_squared_error(y_test,pre)\n",
    "print(pre)\n",
    "print()\n",
    "print(r)\n",
    "print()\n",
    "print(mse)\n",
    "print()\n",
    "print(coe)"
   ]
  },
  {
   "cell_type": "code",
   "execution_count": 34,
   "metadata": {},
   "outputs": [
    {
     "name": "stdout",
     "output_type": "stream",
     "text": [
      "[ 42.37633395  30.70242947  24.99206358  48.06345427  41.46241814\n",
      "  36.28604722  35.86955291  50.73119599  30.56262797  24.38155675\n",
      "  34.2355696   23.64296424  49.59642965  20.34873551  33.22694868\n",
      "  23.50631523  45.02608967  53.17459464  50.07127404  41.07999575\n",
      "  35.55784547  57.40373665  38.79128695  26.39596003  55.12410897\n",
      "  39.79464257  48.16544271  40.33329326  46.54418057  55.79956907\n",
      "  37.98555809  35.66147292  30.43326902  39.61639756  16.9918505\n",
      "  24.11185455 -45.50642681  41.63632309  56.01029807  24.78289604\n",
      "  39.90770936  54.92096364  34.78836441  40.87454408  22.91291279\n",
      "  46.99566329  43.80188841  37.67326975  29.33248669  51.93456513\n",
      "  32.58376002  58.20766217  43.96885854  50.92521346  52.71495187\n",
      "  20.0051229   42.80998302  47.67101228  42.30293012  42.40543413\n",
      "  48.15669072  38.27704716  53.99781483  38.46691108  37.46066153\n",
      "  20.51206481  56.01029807  36.40043676  36.05303168  47.39604664\n",
      "  42.37295139  46.30175769  43.66434544  23.47754633  54.62132657\n",
      "  38.29074579  40.30245811  37.54371083  36.44509703  22.60696745\n",
      "  20.53736055  44.61813456  34.99842185  13.15974683  27.67389095\n",
      "  55.26676601  48.4244386   35.07698035  43.13141477  52.86104167\n",
      "  27.59966487  39.12149137  26.98605824  51.41203958  41.29779887\n",
      "  45.37737572  21.51751184  46.53416967  22.2456246   38.93456483\n",
      "  18.96265918  33.31119317  49.32426602  55.30339766  58.76335388\n",
      "  46.34367484  61.41237384  18.13218737  24.24151701  35.93065131\n",
      "  51.13438553  16.61747843  47.39690489  29.95786297  21.51751184\n",
      "  44.01409549  15.46696085  42.31597424  42.17962956  48.4244386\n",
      "  38.94837201  42.13151616  51.05957681  46.84494346  52.13420403]\n",
      "\n",
      "0.5042537198042796\n",
      "\n",
      "84.01738403597302\n",
      "\n",
      "[-4.00288179e-01  2.36906195e+00  1.38833695e+00  6.17905669e+00\n",
      "  2.08688379e-02 -4.66169191e+00  3.18900768e+00 -6.84395412e+01\n",
      " -4.42282492e+00  2.36578439e+01 -6.90832041e+00 -4.66861692e+03\n",
      "  3.21405643e+03  3.61165734e+01 -2.41510375e+00  4.45830656e+02\n",
      " -8.17435143e+01  8.00568694e+01  2.16402207e-02  1.41248655e+01\n",
      "  4.15777206e+03 -1.24626516e+03  8.34898024e+02  2.51576098e+01\n",
      "  4.50905260e+00 -1.15810603e+02 -2.41889601e+02  3.88328123e+02\n",
      "  2.16320065e-03  1.45174499e-02  4.14018511e-04  3.58676563e+00\n",
      "  6.97531668e-01  1.98188864e-01 -4.27146821e-03 -8.41019811e-05\n",
      "  3.96044636e-02 -6.42611269e+00  8.76742109e-01 -1.80044291e-07\n",
      " -7.26197810e-05 -5.27570757e-01 -1.00075036e-01  5.28738838e-01\n",
      " -1.98821378e+02 -7.79781932e+01  2.25953685e+01  1.70370910e+01\n",
      " -1.74437330e+01  5.95340384e-04  1.50226766e-05  3.46540041e-03\n",
      "  3.86262967e-01 -3.06161762e-01  1.54666118e-07 -7.93281987e-05\n",
      "  1.12960171e-02  1.89435516e-02  3.70956513e-03 -2.12814749e+00\n",
      " -3.88774143e+00 -2.28086958e+03  1.04420458e+03 -1.14811732e+02\n",
      " -2.67457789e-09 -1.78230410e-06 -7.19630094e-05 -1.60178494e-04\n",
      " -2.17105436e-04  6.14887185e-02 -1.27612682e-01  1.02769698e+00\n",
      " -2.58955010e+01  8.61734420e+00  5.09847181e-02  9.44840135e-01\n",
      " -1.58265984e+01 -2.43590141e+03  4.29343351e+03  2.05742461e+02\n",
      " -2.04784602e+01  5.31936535e+00  1.17388360e+01  5.47033347e+00]\n"
     ]
    }
   ],
   "source": [
    "#206.For the given RealEstate csv, write a python program satisfying following tasks to demonstrate application of machine learning \n",
    "# through multiple linear regression as follows – \n",
    "# Given: - \n",
    "# Dataset                              RealEstate.csv\n",
    "#  ML Library to be used    scikit-learn   \n",
    "# Dependent variable          'Y house price of unit area'\n",
    "#  Independent variables     'X1 transaction date', 'X2 house age',  'X3 distance to the nearest MRT station', 'X4 number of \n",
    "# convenience stores', 'X5 latitude' and  'X6 longitude'\n",
    "#  1. Import required libraries.\n",
    "#  2. Load RealEstate dataset, create a dataframe and check datatypes of its attributes using appropriate method.\n",
    "#  3. Remove ‘No’ column from the dataframe.\n",
    "#  4. Check for any null values in features using appropriate method.\n",
    "#  5. Create feature variables x and y as given above. \n",
    "# 6. Create training and testing sets of feature variables with 70% of data for training and with random state of 110.\n",
    "#  7. Create and fit regression model using appropriate method.\n",
    "#  8. Use testing set created in step 6 to find and print the prediction of the outcome.\n",
    "#  9. Find and print coefficient and mean squared error of the regression model.\n",
    "import pandas as pd\n",
    "import numpy as np\n",
    "from sklearn.linear_model import LinearRegression\n",
    "from sklearn.model_selection import train_test_split\n",
    "from sklearn.metrics import r2_score,mean_squared_error\n",
    "# from sklearn.preprocessing import PolynomialFeatures\n",
    "df=pd.read_csv(\"RealEstate.csv\")\n",
    "z=pd.DataFrame(df)\n",
    "z\n",
    "x=z[[\"X1 transaction date\",\"X2 house age\",\"X3 distance to the nearest MRT station\",\"X4 number of convenience stores\",\"X5 latitude\",\"X6 longitude\"]]\n",
    "y=z[\"Y house price of unit area\"]\n",
    "d=z.drop(\"No\",axis=1)\n",
    "d=d.isnull().sum()\n",
    "x_train,x_test,y_train,y_test=train_test_split(x,y,test_size=0.3,random_state=110)\n",
    "poly=PolynomialFeatures(degree=3)\n",
    "poly_xtrain=poly.fit_transform(x_train)\n",
    "poly_xtest=poly.transform(x_test)\n",
    "model=LinearRegression()\n",
    "model.fit(poly_xtrain,y_train)\n",
    "pre=model.predict(poly_xtest)\n",
    "r=r2_score(y_test,pre)\n",
    "coe=model.coef_\n",
    "mse=mean_squared_error(y_test,pre)\n",
    "print(pre)\n",
    "print()\n",
    "print(r)\n",
    "print()\n",
    "print(mse)\n",
    "print()\n",
    "print(coe)"
   ]
  },
  {
   "cell_type": "code",
   "execution_count": 38,
   "metadata": {},
   "outputs": [
    {
     "name": "stdout",
     "output_type": "stream",
     "text": [
      "0.544786506457843\n",
      "0.633002498143339\n",
      "0.5042537198042796\n",
      "-4.664051421705992\n",
      "-64.16436065383836\n",
      "-83589.05162204702\n",
      "-13150711.625937233\n",
      "-190233785.78275013\n",
      "-810177213.9568791\n"
     ]
    }
   ],
   "source": [
    "#206.For the given RealEstate csv, write a python program satisfying following tasks to demonstrate application of machine learning \n",
    "# through multiple linear regression as follows – \n",
    "# Given: - \n",
    "# Dataset                              RealEstate.csv\n",
    "#  ML Library to be used    scikit-learn   \n",
    "# Dependent variable          'Y house price of unit area'\n",
    "#  Independent variables     'X1 transaction date', 'X2 house age',  'X3 distance to the nearest MRT station', 'X4 number of \n",
    "# convenience stores', 'X5 latitude' and  'X6 longitude'\n",
    "#  1. Import required libraries.\n",
    "#  2. Load RealEstate dataset, create a dataframe and check datatypes of its attributes using appropriate method.\n",
    "#  3. Remove ‘No’ column from the dataframe.\n",
    "#  4. Check for any null values in features using appropriate method.\n",
    "#  5. Create feature variables x and y as given above. \n",
    "# 6. Create training and testing sets of feature variables with 70% of data for training and with random state of 110.\n",
    "#  7. Create and fit regression model using appropriate method.\n",
    "#  8. Use testing set created in step 6 to find and print the prediction of the outcome.\n",
    "#  9. Find and print coefficient and mean squared error of the regression model.\n",
    "import pandas as pd\n",
    "import numpy as np\n",
    "from sklearn.linear_model import LinearRegression\n",
    "from sklearn.model_selection import train_test_split\n",
    "from sklearn.metrics import r2_score,mean_squared_error\n",
    "# from sklearn.preprocessing import PolynomialFeatures\n",
    "df=pd.read_csv(\"RealEstate.csv\")\n",
    "z=pd.DataFrame(df)\n",
    "z\n",
    "x=z[[\"X1 transaction date\",\"X2 house age\",\"X3 distance to the nearest MRT station\",\"X4 number of convenience stores\",\"X5 latitude\",\"X6 longitude\"]]\n",
    "y=z[\"Y house price of unit area\"]\n",
    "d=z.drop(\"No\",axis=1)\n",
    "d=d.isnull().sum()\n",
    "x_train,x_test,y_train,y_test=train_test_split(x,y,test_size=0.3,random_state=110)\n",
    "for i in range(1,10):\n",
    "    poly=PolynomialFeatures(degree=i)\n",
    "    poly_xtrain=poly.fit_transform(x_train)\n",
    "    poly_xtest=poly.transform(x_test)\n",
    "    model=LinearRegression()\n",
    "    model.fit(poly_xtrain,y_train)\n",
    "    pre=model.predict(poly_xtest)\n",
    "    r=r2_score(y_test,pre)\n",
    "# coe=model.coef_\n",
    "# mse=mean_squared_error(y_test,pre)\n",
    "# print(pre)\n",
    "# print()\n",
    "    print(r)"
   ]
  },
  {
   "cell_type": "code",
   "execution_count": null,
   "metadata": {},
   "outputs": [],
   "source": []
  }
 ],
 "metadata": {
  "kernelspec": {
   "display_name": "Python 3",
   "language": "python",
   "name": "python3"
  },
  "language_info": {
   "codemirror_mode": {
    "name": "ipython",
    "version": 3
   },
   "file_extension": ".py",
   "mimetype": "text/x-python",
   "name": "python",
   "nbconvert_exporter": "python",
   "pygments_lexer": "ipython3",
   "version": "3.8.5"
  }
 },
 "nbformat": 4,
 "nbformat_minor": 4
}
