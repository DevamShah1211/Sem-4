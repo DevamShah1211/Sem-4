{
 "cells": [
  {
   "cell_type": "code",
   "execution_count": null,
   "metadata": {},
   "outputs": [
    {
     "name": "stdout",
     "output_type": "stream",
     "text": [
      "http://localhost:8008\n",
      "GET / HTTP/1.1\n",
      "Host: localhost:8008\n",
      "Connection: keep-alive\n",
      "sec-ch-ua: \"Chromium\";v=\"124\", \"Google Chrome\";v=\"124\", \"Not-A.Brand\";v=\"99\"\n",
      "sec-ch-ua-mobile: ?0\n",
      "sec-ch-ua-platform: \"Windows\"\n",
      "Upgrade-Insecure-Requests: 1\n",
      "User-Agent: Mozilla/5.0 (Windows NT 10.0; Win64; x64) AppleWebKit/537.36 (KHTML, like Gecko) Chrome/124.0.0.0 Safari/537.36\n",
      "Accept: text/html,application/xhtml+xml,application/xml;q=0.9,image/avif,image/webp,image/apng,*/*;q=0.8,application/signed-exchange;v=b3;q=0.7\n",
      "Sec-Fetch-Site: same-site\n",
      "Sec-Fetch-Mode: navigate\n",
      "Sec-Fetch-User: ?1\n",
      "Sec-Fetch-Dest: document\n",
      "Referer: http://localhost:8888/\n",
      "Accept-Encoding: gzip, deflate, br, zstd\n",
      "Accept-Language: en-US,en;q=0.9\n",
      "Cookie: _xsrf=2|9d3e96b9|35508ac7140c15e447db1da53aa2b60c|1748661979; username-localhost-8888=\"2|1:0|10:1749017185|23:username-localhost-8888|44:NTJhOTg5Njg4ODEwNDBjNTgzYWQ1M2ViYjM1OWRmMGI=|52624fd006fe8d5dc8e8a7b7ebdc630715004d9f7ad693c9b79d74d7b3d8c1f5\"\n",
      "\n",
      "\n",
      "GET /favicon.ico HTTP/1.1\n",
      "Host: localhost:8008\n",
      "Connection: keep-alive\n",
      "sec-ch-ua: \"Chromium\";v=\"124\", \"Google Chrome\";v=\"124\", \"Not-A.Brand\";v=\"99\"\n",
      "sec-ch-ua-mobile: ?0\n",
      "User-Agent: Mozilla/5.0 (Windows NT 10.0; Win64; x64) AppleWebKit/537.36 (KHTML, like Gecko) Chrome/124.0.0.0 Safari/537.36\n",
      "sec-ch-ua-platform: \"Windows\"\n",
      "Accept: image/avif,image/webp,image/apng,image/svg+xml,image/*,*/*;q=0.8\n",
      "Sec-Fetch-Site: same-origin\n",
      "Sec-Fetch-Mode: no-cors\n",
      "Sec-Fetch-Dest: image\n",
      "Referer: http://localhost:8008/\n",
      "Accept-Encoding: gzip, deflate, br, zstd\n",
      "Accept-Language: en-US,en;q=0.9\n",
      "Cookie: _xsrf=2|9d3e96b9|35508ac7140c15e447db1da53aa2b60c|1748661979; username-localhost-8888=\"2|1:0|10:1749017185|23:username-localhost-8888|44:NTJhOTg5Njg4ODEwNDBjNTgzYWQ1M2ViYjM1OWRmMGI=|52624fd006fe8d5dc8e8a7b7ebdc630715004d9f7ad693c9b79d74d7b3d8c1f5\"\n",
      "\n",
      "\n",
      "\n"
     ]
    }
   ],
   "source": [
    "import socket\n",
    "host=\"\"\n",
    "port=8008\n",
    "server=socket.socket()\n",
    "server.bind((host,port))\n",
    "server.listen()\n",
    "print(\"http://localhost:8008\")\n",
    "while True:\n",
    "    conn,addr=server.accept()\n",
    "    data=conn.recv(1024).decode()\n",
    "    print(data)\n",
    "    msg=\"http/1.1 200 OK\\r\\n\"\n",
    "    msg+=\"Content-Type : text/html; charset-utf-8\\r\\n\"\n",
    "    msg+=\"\\r\\n\"\n",
    "    msg+=\"<html><body><p>HELLO</p></body></html>\"\n",
    "    conn.send(msg.encode())\n",
    "    conn.close()\n",
    "server.close()"
   ]
  },
  {
   "cell_type": "code",
   "execution_count": null,
   "metadata": {},
   "outputs": [],
   "source": []
  }
 ],
 "metadata": {
  "kernelspec": {
   "display_name": "Python 3",
   "language": "python",
   "name": "python3"
  },
  "language_info": {
   "codemirror_mode": {
    "name": "ipython",
    "version": 3
   },
   "file_extension": ".py",
   "mimetype": "text/x-python",
   "name": "python",
   "nbconvert_exporter": "python",
   "pygments_lexer": "ipython3",
   "version": "3.8.5"
  }
 },
 "nbformat": 4,
 "nbformat_minor": 4
}
