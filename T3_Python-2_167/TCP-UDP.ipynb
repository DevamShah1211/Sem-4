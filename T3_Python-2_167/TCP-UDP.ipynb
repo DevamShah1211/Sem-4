{
 "cells": [
  {
   "cell_type": "code",
   "execution_count": 4,
   "metadata": {},
   "outputs": [
    {
     "name": "stdout",
     "output_type": "stream",
     "text": [
      "Overwriting TCPserver.py\n"
     ]
    }
   ],
   "source": [
    "%%writefile TCPserver.py\n",
    "import socket\n",
    "host=\"\"\n",
    "port=5005\n",
    "server=socket.socket()\n",
    "server.bind((host,port))\n",
    "server.listen()\n",
    "conn,add=server.accept()\n",
    "while True:\n",
    "    data=conn.recv(1024).decode()\n",
    "    if data==\"BYE\":\n",
    "        break\n",
    "    print(\"MSG Recieved:\",str(data))\n",
    "    data=input(\"Enter Msg you want to send\")\n",
    "    conn.send(data.encode())\n",
    "conn.close()"
   ]
  },
  {
   "cell_type": "code",
   "execution_count": 6,
   "metadata": {},
   "outputs": [
    {
     "name": "stdout",
     "output_type": "stream",
     "text": [
      "Overwriting TCPclient.py\n"
     ]
    }
   ],
   "source": [
    "%%writefile TCPclient.py\n",
    "import socket\n",
    "host=\"192.168.107.4\"\n",
    "port=5005\n",
    "client=socket.socket()\n",
    "client.connect((host,port))\n",
    "msg=input(\"Enter Your Message\")\n",
    "while msg!=\"BYE\":\n",
    "    client.send(msg.encode())\n",
    "    data=client.recv(1024).decode()\n",
    "    print(\"Recieved from server:\",str(data))\n",
    "    msg=input(\"Enter Your messgae\")\n",
    "client.close()"
   ]
  },
  {
   "cell_type": "code",
   "execution_count": null,
   "metadata": {},
   "outputs": [],
   "source": [
    "%%writefile UDPserver.py\n"
   ]
  }
 ],
 "metadata": {
  "kernelspec": {
   "display_name": "Python 3",
   "language": "python",
   "name": "python3"
  },
  "language_info": {
   "codemirror_mode": {
    "name": "ipython",
    "version": 3
   },
   "file_extension": ".py",
   "mimetype": "text/x-python",
   "name": "python",
   "nbconvert_exporter": "python",
   "pygments_lexer": "ipython3",
   "version": "3.8.5"
  }
 },
 "nbformat": 4,
 "nbformat_minor": 4
}
