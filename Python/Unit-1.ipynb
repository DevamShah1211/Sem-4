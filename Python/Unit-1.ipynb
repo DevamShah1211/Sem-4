{
 "cells": [
  {
   "cell_type": "code",
   "execution_count": 1,
   "metadata": {},
   "outputs": [
    {
     "name": "stdout",
     "output_type": "stream",
     "text": [
      "0     10\n",
      "1     20\n",
      "2     30\n",
      "3     40\n",
      "4     50\n",
      "5     60\n",
      "6     70\n",
      "7     80\n",
      "8     90\n",
      "9    100\n",
      "dtype: int64\n"
     ]
    }
   ],
   "source": [
    "import pandas as pd \n",
    "x=[10,20,30,40,50,60,70,80,90,100]\n",
    "y=pd.Series(x)\n",
    "print(y)"
   ]
  },
  {
   "cell_type": "code",
   "execution_count": 8,
   "metadata": {},
   "outputs": [
    {
     "name": "stdout",
     "output_type": "stream",
     "text": [
      "A     10\n",
      "B     20\n",
      "C     30\n",
      "D     40\n",
      "E     50\n",
      "F     60\n",
      "G     70\n",
      "H     80\n",
      "I     90\n",
      "J    100\n",
      "Name: Details, dtype: int64\n"
     ]
    }
   ],
   "source": [
    "import pandas as pd \n",
    "x=[10,20,30,40,50,60,70,80,90,100]\n",
    "y=pd.Series(x,index=[\"A\",\"B\",\"C\",\"D\",\"E\",\"F\",\"G\",\"H\",\"I\",\"J\"],name=\"Details\")\n",
    "print(y)"
   ]
  },
  {
   "cell_type": "code",
   "execution_count": 7,
   "metadata": {},
   "outputs": [
    {
     "name": "stdout",
     "output_type": "stream",
     "text": [
      "A    10\n",
      "B    20\n",
      "C    30\n",
      "D    40\n",
      "dtype: int64\n"
     ]
    }
   ],
   "source": [
    "import pandas as pd \n",
    "x={\"A\":10,\"B\":20,\"C\":30,\"D\":40}\n",
    "y=pd.Series(x)\n",
    "print(y)"
   ]
  },
  {
   "cell_type": "code",
   "execution_count": 9,
   "metadata": {},
   "outputs": [
    {
     "name": "stdout",
     "output_type": "stream",
     "text": [
      "J    100\n",
      "I     90\n",
      "H     80\n",
      "G     70\n",
      "F     60\n",
      "E     50\n",
      "D     40\n",
      "C     30\n",
      "B     20\n",
      "A     10\n",
      "Name: Details, dtype: int64\n"
     ]
    }
   ],
   "source": [
    "import pandas as pd \n",
    "x=[10,20,30,40,50,60,70,80,90,100]\n",
    "y=pd.Series(x,index=[\"A\",\"B\",\"C\",\"D\",\"E\",\"F\",\"G\",\"H\",\"I\",\"J\"],name=\"Details\")\n",
    "z=y[::-1]\n",
    "print(z)"
   ]
  },
  {
   "cell_type": "code",
   "execution_count": 11,
   "metadata": {},
   "outputs": [
    {
     "name": "stdout",
     "output_type": "stream",
     "text": [
      "A    10\n",
      "B    20\n",
      "C    30\n",
      "D    40\n",
      "Name: Details, dtype: int64\n"
     ]
    }
   ],
   "source": [
    "import pandas as pd \n",
    "x=[10,20,30,40,50,60,70,80,90,100]\n",
    "y=pd.Series(x,index=[\"A\",\"B\",\"C\",\"D\",\"E\",\"F\",\"G\",\"H\",\"I\",\"J\"],name=\"Details\")\n",
    "z=y[\"A\":\"D\"]\n",
    "print(z)"
   ]
  },
  {
   "cell_type": "code",
   "execution_count": 13,
   "metadata": {},
   "outputs": [
    {
     "name": "stdout",
     "output_type": "stream",
     "text": [
      "A    10\n",
      "C    30\n",
      "E    50\n",
      "G    70\n",
      "I    90\n",
      "Name: Details, dtype: int64\n"
     ]
    }
   ],
   "source": [
    "import pandas as pd \n",
    "x=[10,20,30,40,50,60,70,80,90,100]\n",
    "y=pd.Series(x,index=[\"A\",\"B\",\"C\",\"D\",\"E\",\"F\",\"G\",\"H\",\"I\",\"J\"],name=\"Details\")\n",
    "z=y[::2]\n",
    "print(z)"
   ]
  },
  {
   "cell_type": "code",
   "execution_count": 14,
   "metadata": {},
   "outputs": [
    {
     "name": "stdout",
     "output_type": "stream",
     "text": [
      "   0  1  2\n",
      "0  1  2  3\n",
      "1  4  5  6\n",
      "2  7  8  9\n"
     ]
    }
   ],
   "source": [
    "import pandas as pd \n",
    "x=[[1,2,3],[4,5,6],[7,8,9]]\n",
    "y=pd.DataFrame(x)\n",
    "print(y)"
   ]
  },
  {
   "cell_type": "code",
   "execution_count": 16,
   "metadata": {},
   "outputs": [
    {
     "name": "stdout",
     "output_type": "stream",
     "text": [
      "   A  B  C\n",
      "A  1  2  3\n",
      "B  4  5  6\n",
      "C  7  8  9\n"
     ]
    }
   ],
   "source": [
    "import pandas as pd \n",
    "x=[[1,2,3],[4,5,6],[7,8,9]]\n",
    "y=pd.DataFrame(x,index=[\"A\",\"B\",\"C\"],columns=[\"A\",\"B\",\"C\"])\n",
    "print(y)"
   ]
  },
  {
   "cell_type": "code",
   "execution_count": 18,
   "metadata": {},
   "outputs": [
    {
     "name": "stdout",
     "output_type": "stream",
     "text": [
      "    Dhoni  Virat  Rohit\n",
      "M1     49    100     82\n",
      "M2     60     70     36\n",
      "M3     28     92     74\n",
      "M4     10     54     29\n"
     ]
    }
   ],
   "source": [
    "import pandas as pd \n",
    "x={\"Dhoni\":[49,60,28,10],\"Virat\":[100,70,92,54],\"Rohit\":[82,36,74,29]}\n",
    "y=pd.DataFrame(x,index=[\"M1\",\"M2\",\"M3\",\"M4\"])\n",
    "print(y)"
   ]
  },
  {
   "cell_type": "code",
   "execution_count": 26,
   "metadata": {},
   "outputs": [
    {
     "name": "stdout",
     "output_type": "stream",
     "text": [
      "Dhoni     49\n",
      "Virat    100\n",
      "Rohit     82\n",
      "Name: M1, dtype: int64\n"
     ]
    }
   ],
   "source": [
    "import pandas as pd \n",
    "x={\"Dhoni\":[49,60,28,10],\"Virat\":[100,70,92,54],\"Rohit\":[82,36,74,29]}\n",
    "y=pd.DataFrame(x,index=[\"M1\",\"M2\",\"M3\",\"M4\"])\n",
    "y=y.iloc[0]\n",
    "print(y)"
   ]
  },
  {
   "cell_type": "code",
   "execution_count": 27,
   "metadata": {},
   "outputs": [
    {
     "name": "stdout",
     "output_type": "stream",
     "text": [
      "100\n"
     ]
    }
   ],
   "source": [
    "import pandas as pd \n",
    "x={\"Dhoni\":[49,60,28,10],\"Virat\":[100,70,92,54],\"Rohit\":[82,36,74,29]}\n",
    "y=pd.DataFrame(x,index=[\"M1\",\"M2\",\"M3\",\"M4\"])\n",
    "y=y.loc[\"M1\",\"Virat\"]\n",
    "print(y)"
   ]
  },
  {
   "cell_type": "code",
   "execution_count": 32,
   "metadata": {},
   "outputs": [
    {
     "name": "stdout",
     "output_type": "stream",
     "text": [
      "Virat    100\n",
      "Dhoni     49\n",
      "Name: M1, dtype: int64\n"
     ]
    }
   ],
   "source": [
    "import pandas as pd \n",
    "x={\"Dhoni\":[49,60,28,10],\"Virat\":[100,70,92,54],\"Rohit\":[82,36,74,29]}\n",
    "y=pd.DataFrame(x,index=[\"M1\",\"M2\",\"M3\",\"M4\"])\n",
    "y=y.loc[\"M1\",[\"Virat\",\"Dhoni\"]]\n",
    "print(y)"
   ]
  },
  {
   "cell_type": "code",
   "execution_count": 33,
   "metadata": {},
   "outputs": [
    {
     "name": "stdout",
     "output_type": "stream",
     "text": [
      "Dhoni     49\n",
      "Virat    100\n",
      "Rohit     82\n",
      "Name: M1, dtype: int64\n"
     ]
    }
   ],
   "source": [
    "import pandas as pd \n",
    "x={\"Dhoni\":[49,60,28,10],\"Virat\":[100,70,92,54],\"Rohit\":[82,36,74,29]}\n",
    "y=pd.DataFrame(x,index=[\"M1\",\"M2\",\"M3\",\"M4\"])\n",
    "y=y.loc[\"M1\"]\n",
    "print(y)"
   ]
  },
  {
   "cell_type": "code",
   "execution_count": 35,
   "metadata": {},
   "outputs": [
    {
     "name": "stdout",
     "output_type": "stream",
     "text": [
      "M1    49\n",
      "M2    60\n",
      "M3    28\n",
      "M4    10\n",
      "Name: Dhoni, dtype: int64\n"
     ]
    }
   ],
   "source": [
    "import pandas as pd \n",
    "x={\"Dhoni\":[49,60,28,10],\"Virat\":[100,70,92,54],\"Rohit\":[82,36,74,29]}\n",
    "y=pd.DataFrame(x,index=[\"M1\",\"M2\",\"M3\",\"M4\"])\n",
    "y=y[\"Dhoni\"]\n",
    "print(y)"
   ]
  },
  {
   "cell_type": "code",
   "execution_count": null,
   "metadata": {},
   "outputs": [],
   "source": []
  }
 ],
 "metadata": {
  "kernelspec": {
   "display_name": "Python 3",
   "language": "python",
   "name": "python3"
  },
  "language_info": {
   "codemirror_mode": {
    "name": "ipython",
    "version": 3
   },
   "file_extension": ".py",
   "mimetype": "text/x-python",
   "name": "python",
   "nbconvert_exporter": "python",
   "pygments_lexer": "ipython3",
   "version": "3.8.5"
  }
 },
 "nbformat": 4,
 "nbformat_minor": 4
}
